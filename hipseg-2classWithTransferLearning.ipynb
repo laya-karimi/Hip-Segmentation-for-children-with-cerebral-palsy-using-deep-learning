{
 "cells": [
  {
   "cell_type": "code",
   "execution_count": 1,
   "id": "2aa84fc6",
   "metadata": {},
   "outputs": [
    {
     "name": "stderr",
     "output_type": "stream",
     "text": [
      "2023-03-07 21:31:56.526333: I tensorflow/core/platform/cpu_feature_guard.cc:193] This TensorFlow binary is optimized with oneAPI Deep Neural Network Library (oneDNN) to use the following CPU instructions in performance-critical operations:  AVX2 FMA\n",
      "To enable them in other operations, rebuild TensorFlow with the appropriate compiler flags.\n",
      "2023-03-07 21:31:59.076276: W tensorflow/compiler/xla/stream_executor/platform/default/dso_loader.cc:64] Could not load dynamic library 'libnvinfer.so.7'; dlerror: libnvinfer.so.7: cannot open shared object file: No such file or directory\n",
      "2023-03-07 21:31:59.076606: W tensorflow/compiler/xla/stream_executor/platform/default/dso_loader.cc:64] Could not load dynamic library 'libnvinfer_plugin.so.7'; dlerror: libnvinfer_plugin.so.7: cannot open shared object file: No such file or directory\n",
      "2023-03-07 21:31:59.076613: W tensorflow/compiler/tf2tensorrt/utils/py_utils.cc:38] TF-TRT Warning: Cannot dlopen some TensorRT libraries. If you would like to use Nvidia GPU with TensorRT, please make sure the missing libraries mentioned above are installed properly.\n"
     ]
    }
   ],
   "source": [
    "import tensorflow as tf\n",
    "gpu_devices=tf.config.experimental.list_physical_devices('GPU')\n",
    "for device in gpu_devices: \n",
    "    tf.config.experimental.set_memory_growth(device,True)"
   ]
  },
  {
   "cell_type": "code",
   "execution_count": 2,
   "id": "6c68c268",
   "metadata": {},
   "outputs": [
    {
     "name": "stdout",
     "output_type": "stream",
     "text": [
      "Num GPUs: 1\n"
     ]
    }
   ],
   "source": [
    "import tensorflow as tf\n",
    "physical_devices = tf.config.list_physical_devices('GPU')\n",
    "print(\"Num GPUs:\", len(physical_devices))"
   ]
  },
  {
   "cell_type": "code",
   "execution_count": 3,
   "id": "54893c9c",
   "metadata": {
    "scrolled": false
   },
   "outputs": [
    {
     "name": "stdout",
     "output_type": "stream",
     "text": [
      "env: SM_FRAMEWORK=tf.keras\n",
      "Segmentation Models: using `tf.keras` framework.\n"
     ]
    }
   ],
   "source": [
    "%env SM_FRAMEWORK=tf.keras\n",
    "from matplotlib import pyplot as plt\n",
    "import numpy as np\n",
    "import tensorflow as tf\n",
    "import nibabel as nib\n",
    "from PIL import Image\n",
    "import os\n",
    "import glob\n",
    "from sklearn.preprocessing import LabelEncoder\n",
    "from sklearn.model_selection import train_test_split\n",
    "from sklearn.utils import class_weight\n",
    "from tensorflow.keras.utils import to_categorical\n",
    "from tensorflow.keras.metrics import MeanIoU\n",
    "import cv2\n",
    "import segmentation_models as sm\n",
    "from tensorflow.keras.optimizers import Adam\n",
    "import random\n",
    "seed =0\n",
    "random.seed(seed) \n",
    "tf.random.set_seed(seed)\n",
    "np.random.seed(seed)\n",
    "import segmentation_models as sm\n",
    "from tensorflow.keras.preprocessing.image import ImageDataGenerator"
   ]
  },
  {
   "cell_type": "code",
   "execution_count": 4,
   "id": "c27d3c87",
   "metadata": {},
   "outputs": [],
   "source": [
    "import joblib as jlb\n",
    "transfer_unmask,transfer_mask=jlb.load(\"transfer-unmask-mask.data\")"
   ]
  },
  {
   "cell_type": "code",
   "execution_count": 5,
   "id": "855f5c11",
   "metadata": {},
   "outputs": [],
   "source": [
    "from sklearn.model_selection import train_test_split\n",
    "x_train,x_test,y_train,y_test = train_test_split(transfer_unmask,transfer_mask,test_size=0.2,random_state=0,shuffle=True)"
   ]
  },
  {
   "cell_type": "code",
   "execution_count": 6,
   "id": "42d7f27e",
   "metadata": {},
   "outputs": [],
   "source": [
    "def downsample(filters, size, shape, apply_batchnorm=True):\n",
    "    result = tf.keras.Sequential()\n",
    "    result.add(\n",
    "      tf.keras.layers.Conv2D(filters, size, strides=2, padding='same', batch_input_shape=shape, \n",
    "                             kernel_initializer='he_normal'))\n",
    "\n",
    "    if apply_batchnorm:\n",
    "        result.add(tf.keras.layers.BatchNormalization())\n",
    "\n",
    "    result.add(tf.keras.layers.ReLU())\n",
    "\n",
    "    return result\n",
    "\n",
    "def upsample(filters, size, shape, apply_dropout=False):\n",
    "    result = tf.keras.Sequential()\n",
    "    result.add(\n",
    "    tf.keras.layers.Conv2DTranspose(filters, size, strides=2, batch_input_shape=shape,padding='same',\n",
    "                                    kernel_initializer='he_normal'))\n",
    "\n",
    "    result.add(tf.keras.layers.BatchNormalization())\n",
    "\n",
    "    if apply_dropout:\n",
    "        result.add(tf.keras.layers.Dropout(0.2))\n",
    "\n",
    "    result.add(tf.keras.layers.ReLU())\n",
    "\n",
    "    return result"
   ]
  },
  {
   "cell_type": "code",
   "execution_count": 7,
   "id": "7743b05e",
   "metadata": {},
   "outputs": [],
   "source": [
    "OUTPUT_CHANNELS = 1\n",
    "def buildUNet():\n",
    "    inputs = tf.keras.layers.Input(shape=[512,512,1])\n",
    "    down_stack = [\n",
    "        downsample(64, 3, (None, 512, 512,1), apply_batchnorm=False), # (bs, 128, 128, 64)\n",
    "        downsample(128, 3, (None, 256, 256, 64)), # (bs, 128, 128, 128)\n",
    "        downsample(128, 3, (None, 128, 128, 128)), # (bs, 64, 64, 128)\n",
    "        downsample(256, 3, (None, 64, 64, 128)),\n",
    "        downsample(256, 3, (None, 32, 32, 256)), # (bs, 16, 16, 512)\n",
    "        downsample(512, 3, (None, 16, 16, 256)), # (bs, 8, 8, 512)\n",
    "        downsample(512, 3, (None, 8, 8, 512)), # (bs, 4, 4, 512)\n",
    "        downsample(512, 3, (None, 4, 4, 512)), # (bs, 2, 2, 512)\n",
    "        downsample(512, 3, (None, 2, 2, 512)), # (bs, 1, 1, 512)\n",
    "    ]\n",
    "\n",
    "    up_stack = [\n",
    "        upsample(512, 3, (None, 1, 1, 512), apply_dropout=True), # (bs, 2, 2, 1024)\n",
    "        upsample(512, 3, (None, 2, 2, 1024), apply_dropout=True), # (bs, 4, 4, 1024)\n",
    "        upsample(512, 3, (None, 4, 4, 1024), apply_dropout=True), # (bs, 8, 8, 1024)\n",
    "        upsample(512, 3, (None, 8, 8, 1024)), # (bs, 16, 16, 1024)\n",
    "        upsample(256, 3, (None, 16, 16, 768)), # (bs, 32, 32, 512)\n",
    "        upsample(256, 3, (None, 32, 32, 512)), # (bs, 64, 64, 256)\n",
    "        upsample(128, 3, (None, 64, 64, 384)), # (bs, 128, 128, 128)\n",
    "        upsample(128, 3, (None, 128, 128, 256)),\n",
    "        upsample(64, 3, (None, 256, 256, 96)),\n",
    "    ]\n",
    "\n",
    "    initializer = tf.random_normal_initializer(0., 0.02)\n",
    "#     initializer='he_normal'\n",
    "    last = tf.keras.layers.Conv2DTranspose(OUTPUT_CHANNELS, 3,strides=2,padding='same',\n",
    "                                           kernel_initializer=initializer,\n",
    "                                           activation='sigmoid') # (bs, 256, 256, 1)\n",
    "\n",
    "    x = inputs\n",
    "\n",
    "    skips = []\n",
    "    for down in down_stack:\n",
    "        x = down(x)\n",
    "        skips.append(x)\n",
    "\n",
    "    skips = reversed(skips[:-1])\n",
    "\n",
    "    for up, skip in zip(up_stack, skips):\n",
    "        x = up(x)\n",
    "        x = tf.keras.layers.Concatenate()([x, skip])\n",
    "\n",
    "    x = last(x)\n",
    "\n",
    "    return tf.keras.Model(inputs=inputs, outputs=x)"
   ]
  },
  {
   "cell_type": "code",
   "execution_count": null,
   "id": "e0fc0e97",
   "metadata": {
    "scrolled": true
   },
   "outputs": [],
   "source": [
    "from tensorflow.keras.utils import Sequence\n",
    "import numpy as np   \n",
    "\n",
    "class DataGenerator(Sequence):\n",
    "    def __init__(self, x_set, y_set, batch_size):\n",
    "        self.x, self.y = x_set, y_set\n",
    "        self.batch_size = batch_size\n",
    "\n",
    "    def __len__(self):\n",
    "        return int(np.ceil(len(self.x) / float(self.batch_size)))\n",
    "\n",
    "    def __getitem__(self, idx):\n",
    "        batch_x = self.x[idx * self.batch_size:(idx + 1) * self.batch_size]\n",
    "        batch_y = self.y[idx * self.batch_size:(idx + 1) * self.batch_size]\n",
    "        return batch_x, batch_y\n",
    "\n",
    "train_gen = DataGenerator(x_train, y_train, 16)\n",
    "test_gen = DataGenerator(x_test, y_test, 16)\n",
    "\n"
   ]
  },
  {
   "cell_type": "code",
   "execution_count": null,
   "id": "68e42671",
   "metadata": {
    "scrolled": true
   },
   "outputs": [],
   "source": [
    "model = buildUNet()\n",
    "model.compile(optimizer = 'adam', loss =  'binary_crossentropy', metrics=['accuracy'])\n",
    "\n",
    "history = model.fit(train_gen,\n",
    "                    epochs=200,\n",
    "                    validation_data=test_gen,\n",
    "                    verbose=2)"
   ]
  },
  {
   "cell_type": "code",
   "execution_count": null,
   "id": "200d0503",
   "metadata": {},
   "outputs": [],
   "source": [
    "model.save('model3-7-300ep.hdf5')"
   ]
  },
  {
   "cell_type": "code",
   "execution_count": 8,
   "id": "a26a4f80",
   "metadata": {},
   "outputs": [
    {
     "name": "stderr",
     "output_type": "stream",
     "text": [
      "2023-03-07 21:34:40.499043: I tensorflow/core/platform/cpu_feature_guard.cc:193] This TensorFlow binary is optimized with oneAPI Deep Neural Network Library (oneDNN) to use the following CPU instructions in performance-critical operations:  AVX2 FMA\n",
      "To enable them in other operations, rebuild TensorFlow with the appropriate compiler flags.\n",
      "2023-03-07 21:34:41.671558: I tensorflow/core/common_runtime/gpu/gpu_device.cc:1613] Created device /job:localhost/replica:0/task:0/device:GPU:0 with 38159 MB memory:  -> device: 0, name: NVIDIA A100-PCIE-40GB, pci bus id: 0000:25:00.0, compute capability: 8.0\n"
     ]
    }
   ],
   "source": [
    "# transfer\n",
    "model = buildUNet()\n",
    "model.compile(optimizer = 'adam', loss =  'binary_crossentropy', metrics=['accuracy'])\n",
    "model.load_weights('model3-7-300ep.hdf5')"
   ]
  },
  {
   "cell_type": "code",
   "execution_count": 9,
   "id": "4d304632",
   "metadata": {},
   "outputs": [
    {
     "name": "stderr",
     "output_type": "stream",
     "text": [
      "2023-03-07 21:34:47.409922: I tensorflow/compiler/xla/stream_executor/cuda/cuda_dnn.cc:428] Loaded cuDNN version 8101\n",
      "2023-03-07 21:34:49.504632: I tensorflow/tsl/platform/default/subprocess.cc:304] Start cannot spawn child process: No such file or directory\n"
     ]
    },
    {
     "name": "stdout",
     "output_type": "stream",
     "text": [
      "32/32 [==============================] - 10s 81ms/step\n",
      "IoU score is: 0.9805184948352126\n"
     ]
    }
   ],
   "source": [
    "y_pred = model.predict(x_test[0:1000])\n",
    "\n",
    "y_pred_th = y_pred > 0.5\n",
    "intersection = np.logical_and(y_test[0:1000],y_pred_th)\n",
    "union = np.logical_or(y_test[0:1000],y_pred_th)\n",
    "iou_score = np.sum(intersection) / np.sum(union)\n",
    "print(\"IoU score is:\",iou_score) "
   ]
  },
  {
   "cell_type": "code",
   "execution_count": 11,
   "id": "8ef3fa78",
   "metadata": {},
   "outputs": [],
   "source": [
    "pred=y_pred_th\n",
    "yte=y_test[0:1000]"
   ]
  },
  {
   "cell_type": "code",
   "execution_count": 15,
   "id": "59d4a2da",
   "metadata": {},
   "outputs": [
    {
     "name": "stdout",
     "output_type": "stream",
     "text": [
      "[[22911759, 249835], [205389, 238777017]]\n"
     ]
    },
    {
     "data": {
      "image/png": "[encoded data removed]",
      "text/plain": [
       "<Figure size 600x600 with 2 Axes>"
      ]
     },
     "metadata": {},
     "output_type": "display_data"
    },
    {
     "name": "stdout",
     "output_type": "stream",
     "text": [
      "presicion:  0.9911152967485436\n",
      "recall:  0.9892133935168711\n",
      "F1-Score:  0.9901634318409087\n",
      "Pixel_accuracy:  0.9982634582519532\n",
      "dice:  0.9901634318409087\n",
      "IoU:  0.9805184948352126\n"
     ]
    }
   ],
   "source": [
    "import seaborn as sns\n",
    "\n",
    "FP = len(np.where(pred - yte == 1.)[0])\n",
    "FN = len(np.where(pred - yte == -1.)[0])\n",
    "TP = len(np.where(pred + yte == 2.)[0])\n",
    "TN = len(np.where(pred + yte == 0.)[0])\n",
    "cmat = [[TP,FN],[FP,TN]]\n",
    "print(cmat)\n",
    "plt.figure(figsize=(6,6))\n",
    "sns.heatmap(cmat/np.sum(cmat),cmap=\"Reds\",annot=True,fmt='.2%',square=1,linewidth=2.)\n",
    "plt.xlabel('Predict')\n",
    "plt.ylabel('real')\n",
    "plt.show()\n",
    "presicion = TP / (TP+FP)\n",
    "recall = TP / (TP+FN)\n",
    "F1 = 2 * (presicion*recall)/(presicion+recall)\n",
    "Pixel_accuracy=(TP+TN)/(TP+TN+FP+FN)\n",
    "dice=(2*TP)/(2*TP+FP+FN)\n",
    "iou=TP/(TP+FP+FN)\n",
    "\n",
    "print(\"presicion: \",presicion)\n",
    "print(\"recall: \",recall)\n",
    "print(\"F1-Score: \",F1)\n",
    "print(\"Pixel_accuracy: \",Pixel_accuracy)\n",
    "print(\"dice: \",dice)\n",
    "print(\"IoU: \",iou)"
   ]
  },
  {
   "cell_type": "code",
   "execution_count": 10,
   "id": "0e84d550",
   "metadata": {},
   "outputs": [],
   "source": [
    "def Plot_ACC_LOSS(history):\n",
    "    loss = history.history['loss']\n",
    "    val_loss = history.history['val_loss']\n",
    "    epochs = range(1,len(loss)+1)\n",
    "    plt.plot(epochs,loss,'y',label='Traning loss')\n",
    "    plt.plot(epochs,val_loss,'r',label='Validation loss')\n",
    "    plt.title('Traning and Validation loss')\n",
    "    plt.xlabel('Epochs')\n",
    "    plt.ylabel(\"Loss\")\n",
    "    plt.legend()\n",
    "    plt.show()"
   ]
  },
  {
   "cell_type": "code",
   "execution_count": null,
   "id": "3f05fdc5",
   "metadata": {},
   "outputs": [],
   "source": [
    "Plot_ACC_LOSS(all_history[i])"
   ]
  },
  {
   "cell_type": "code",
   "execution_count": null,
   "id": "a88081c3",
   "metadata": {
    "scrolled": true
   },
   "outputs": [],
   "source": [
    "for i in range(y_test.shape[0]):\n",
    "    img = y_test[i]\n",
    "    print(i)\n",
    "    plt.imshow(img)\n",
    "    plt.show()"
   ]
  },
  {
   "cell_type": "code",
   "execution_count": null,
   "id": "2a852642",
   "metadata": {},
   "outputs": [],
   "source": []
  }
 ],
 "metadata": {
  "kernelspec": {
   "display_name": "Python 3 (ipykernel)",
   "language": "python",
   "name": "python3"
  },
  "language_info": {
   "codemirror_mode": {
    "name": "ipython",
    "version": 3
   },
   "file_extension": ".py",
   "mimetype": "text/x-python",
   "name": "python",
   "nbconvert_exporter": "python",
   "pygments_lexer": "ipython3",
   "version": "3.10.9"
  }
 },
 "nbformat": 4,
 "nbformat_minor": 5
}
